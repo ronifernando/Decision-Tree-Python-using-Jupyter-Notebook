{
 "cells": [
  {
   "cell_type": "markdown",
   "metadata": {},
   "source": [
    "<br><br>\n",
    "<hr>\n",
    "# <center style=\"font-size:40px;\">Machine Learning</center>\n",
    "## <center style=\"font-size:30px;\">Decision Tree</center>\n",
    "<hr>"
   ]
  },
  {
   "cell_type": "markdown",
   "metadata": {},
   "source": [
    "#### RONI FERNANDO 14/365951/PA/16166 \n",
    "#### GHIFFARI AGSARYA ARLIN 14/364209/PA/15944 \n",
    "#### PRABU FARHAN N J 14/365902/PA/16160 \n",
    "#### MUAMMAR KHADAFI 15/378067/PA/16542 "
   ]
  },
  {
   "cell_type": "markdown",
   "metadata": {},
   "source": [
    "<br>\n",
    "# Inisiasi\n",
    "<hr>\n",
    "Menggunakan pandas dan numpy"
   ]
  },
  {
   "cell_type": "code",
   "execution_count": 1,
   "metadata": {},
   "outputs": [],
   "source": [
    "import numpy as np\n",
    "import pandas as pd"
   ]
  },
  {
   "cell_type": "markdown",
   "metadata": {},
   "source": [
    "<br>\n",
    "# Membuka file CSV\n",
    "<hr>"
   ]
  },
  {
   "cell_type": "code",
   "execution_count": 2,
   "metadata": {},
   "outputs": [
    {
     "data": {
      "text/html": [
       "<div>\n",
       "<style scoped>\n",
       "    .dataframe tbody tr th:only-of-type {\n",
       "        vertical-align: middle;\n",
       "    }\n",
       "\n",
       "    .dataframe tbody tr th {\n",
       "        vertical-align: top;\n",
       "    }\n",
       "\n",
       "    .dataframe thead th {\n",
       "        text-align: right;\n",
       "    }\n",
       "</style>\n",
       "<table border=\"1\" class=\"dataframe\">\n",
       "  <thead>\n",
       "    <tr style=\"text-align: right;\">\n",
       "      <th></th>\n",
       "      <th>Class</th>\n",
       "      <th>Lweight</th>\n",
       "      <th>Ldistance</th>\n",
       "      <th>Rweight</th>\n",
       "      <th>Rdistance</th>\n",
       "    </tr>\n",
       "  </thead>\n",
       "  <tbody>\n",
       "    <tr>\n",
       "      <th>0</th>\n",
       "      <td>2</td>\n",
       "      <td>1</td>\n",
       "      <td>1</td>\n",
       "      <td>1</td>\n",
       "      <td>1</td>\n",
       "    </tr>\n",
       "    <tr>\n",
       "      <th>1</th>\n",
       "      <td>0</td>\n",
       "      <td>1</td>\n",
       "      <td>1</td>\n",
       "      <td>1</td>\n",
       "      <td>2</td>\n",
       "    </tr>\n",
       "    <tr>\n",
       "      <th>2</th>\n",
       "      <td>0</td>\n",
       "      <td>1</td>\n",
       "      <td>1</td>\n",
       "      <td>1</td>\n",
       "      <td>3</td>\n",
       "    </tr>\n",
       "    <tr>\n",
       "      <th>3</th>\n",
       "      <td>0</td>\n",
       "      <td>1</td>\n",
       "      <td>1</td>\n",
       "      <td>1</td>\n",
       "      <td>4</td>\n",
       "    </tr>\n",
       "    <tr>\n",
       "      <th>4</th>\n",
       "      <td>0</td>\n",
       "      <td>1</td>\n",
       "      <td>1</td>\n",
       "      <td>1</td>\n",
       "      <td>5</td>\n",
       "    </tr>\n",
       "  </tbody>\n",
       "</table>\n",
       "</div>"
      ],
      "text/plain": [
       "   Class   Lweight   Ldistance   Rweight   Rdistance\n",
       "0      2         1           1         1           1\n",
       "1      0         1           1         1           2\n",
       "2      0         1           1         1           3\n",
       "3      0         1           1         1           4\n",
       "4      0         1           1         1           5"
      ]
     },
     "execution_count": 2,
     "metadata": {},
     "output_type": "execute_result"
    }
   ],
   "source": [
    "df = pd.read_csv('C:/Users/EGT - Roni Fernando/Documents/Jupyter/Machine Learning/Decision Tree Python using Jupyter Notebook/balance.csv')\n",
    "df['Class'] = df['Class'].map({'R':0,'L':1,'B':2})\n",
    "df.head(5)"
   ]
  },
  {
   "cell_type": "markdown",
   "metadata": {},
   "source": [
    "<br>\n",
    "# Melakukan penskalaan untuk data X\n",
    "<hr>"
   ]
  },
  {
   "cell_type": "code",
   "execution_count": 3,
   "metadata": {},
   "outputs": [],
   "source": [
    "from sklearn import preprocessing\n",
    "X = np.array(df.iloc[:,1:]).astype('float64')\n",
    "y = np.array(df['Class'])\n",
    "X_scaled = preprocessing.scale(X)"
   ]
  },
  {
   "cell_type": "markdown",
   "metadata": {},
   "source": [
    "<br>\n",
    "# Membagi data train dan test\n",
    "<hr>"
   ]
  },
  {
   "cell_type": "code",
   "execution_count": 4,
   "metadata": {},
   "outputs": [
    {
     "name": "stderr",
     "output_type": "stream",
     "text": [
      "C:\\Anaconda3\\lib\\site-packages\\sklearn\\cross_validation.py:41: DeprecationWarning: This module was deprecated in version 0.18 in favor of the model_selection module into which all the refactored classes and functions are moved. Also note that the interface of the new CV iterators are different from that of this module. This module will be removed in 0.20.\n",
      "  \"This module will be removed in 0.20.\", DeprecationWarning)\n"
     ]
    }
   ],
   "source": [
    "from sklearn.cross_validation import train_test_split\n",
    "X_train, X_test, y_train, y_test = train_test_split(X_scaled, y, test_size=0.3, random_state=40)\n",
    "#print(X_test)"
   ]
  },
  {
   "cell_type": "markdown",
   "metadata": {},
   "source": [
    "<br>\n",
    "# Menghitung akurasi dari decision tree\n",
    "## 1. Akurasi dengan mengunakan gini\n",
    "<hr>"
   ]
  },
  {
   "cell_type": "code",
   "execution_count": 5,
   "metadata": {},
   "outputs": [
    {
     "name": "stdout",
     "output_type": "stream",
     "text": [
      "Accuracy = 0.79787\n"
     ]
    }
   ],
   "source": [
    "from sklearn.tree import DecisionTreeClassifier\n",
    "from sklearn.metrics import accuracy_score\n",
    "\n",
    "classifier = DecisionTreeClassifier(criterion = 'gini',random_state=40)\n",
    "classifier = classifier.fit(X_train, y_train)\n",
    "pred = classifier.predict(X_test)\n",
    "\n",
    "print (\"Accuracy = %.5f\" % (accuracy_score(y_test, pred)))"
   ]
  },
  {
   "cell_type": "markdown",
   "metadata": {},
   "source": [
    "<br>\n",
    "## 2. Akurasi dengan mengunakan entropy\n",
    "<hr>"
   ]
  },
  {
   "cell_type": "code",
   "execution_count": 6,
   "metadata": {},
   "outputs": [
    {
     "name": "stdout",
     "output_type": "stream",
     "text": [
      "Accuracy = 0.80319\n"
     ]
    }
   ],
   "source": [
    "classifier = DecisionTreeClassifier(criterion = 'entropy',random_state=40)\n",
    "classifier = classifier.fit(X_train, y_train)\n",
    "pred = classifier.predict(X_test)\n",
    "\n",
    "print (\"Accuracy = %.5f\" % (accuracy_score(y_test, pred)))"
   ]
  },
  {
   "cell_type": "markdown",
   "metadata": {},
   "source": [
    "<br>\n",
    "# Menggunakan Cross Validation\n",
    "## 1. Akurasi dengan mengunakan gini\n",
    "<hr>\n",
    "Menerapkan fungsi dimana untuk mengecek nilai akurasi dari setiap maksimal kedalam. didapatkan maksimal kedalama 10 untuk gini"
   ]
  },
  {
   "cell_type": "code",
   "execution_count": 7,
   "metadata": {},
   "outputs": [
    {
     "name": "stdout",
     "output_type": "stream",
     "text": [
      "Depth: 1 Accuracy: 0.561\n",
      "Depth: 2 Accuracy: 0.640\n",
      "Depth: 3 Accuracy: 0.709\n",
      "Depth: 4 Accuracy: 0.793\n",
      "Depth: 5 Accuracy: 0.782\n",
      "Depth: 6 Accuracy: 0.798\n",
      "Depth: 7 Accuracy: 0.795\n",
      "Depth: 8 Accuracy: 0.790\n",
      "Depth: 9 Accuracy: 0.789\n",
      "Depth: 10 Accuracy: 0.787\n",
      "Rata-rata Accuracy: 0.745\n"
     ]
    }
   ],
   "source": [
    "from sklearn import cross_validation\n",
    "from sklearn.cross_validation import  cross_val_score\n",
    "from sklearn.cross_validation import KFold\n",
    "\n",
    "kf = KFold(n=X.shape[0], n_folds=10, shuffle=True, random_state=40)\n",
    "listakurasi = []\n",
    "\n",
    "for depth in range(1,20):\n",
    "    clf_tree=DecisionTreeClassifier(criterion = 'gini',max_depth=depth,random_state=40)\n",
    "    if clf_tree.fit(X_scaled,y).tree_.max_depth < depth:\n",
    "        break\n",
    "    score = np.mean(cross_val_score(clf_tree, X_scaled, y,  scoring='accuracy', cv=kf, n_jobs=1))\n",
    "    listakurasi.append(score);\n",
    "    print ('Depth: %i Accuracy: %.3f' % (depth,score))\n",
    "\n",
    "    \n",
    "rata2 = np.mean(listakurasi)\n",
    "print ('Rata-rata Accuracy: %.3f' % (rata2))\n",
    "\n"
   ]
  },
  {
   "cell_type": "code",
   "execution_count": 8,
   "metadata": {},
   "outputs": [
    {
     "name": "stdout",
     "output_type": "stream",
     "text": [
      "Accuracy Max depth: 0.787\n"
     ]
    }
   ],
   "source": [
    "clf_tree=DecisionTreeClassifier(criterion = 'gini',random_state=40)\n",
    "clf=clf_tree.fit(X,y)\n",
    "scores = cross_val_score(clf, X_scaled, y, cv=kf)\n",
    "avg_score = np.mean(scores)\n",
    "print ('Accuracy Max depth: %.3f' %(avg_score))"
   ]
  },
  {
   "cell_type": "markdown",
   "metadata": {},
   "source": [
    "<br>\n",
    "## 2. Akurasi dengan mengunakan entropy\n",
    "<hr>\n",
    "Menerapkan fungsi dimana untuk mengecek nilai akurasi dari setiap maksimal kedalam. didapatkan maksimal kedalama 12 untuk gini"
   ]
  },
  {
   "cell_type": "code",
   "execution_count": 9,
   "metadata": {},
   "outputs": [
    {
     "name": "stdout",
     "output_type": "stream",
     "text": [
      "Depth: 1 Accuracy: 0.563\n",
      "Depth: 2 Accuracy: 0.637\n",
      "Depth: 3 Accuracy: 0.688\n",
      "Depth: 4 Accuracy: 0.715\n",
      "Depth: 5 Accuracy: 0.768\n",
      "Depth: 6 Accuracy: 0.782\n",
      "Depth: 7 Accuracy: 0.795\n",
      "Depth: 8 Accuracy: 0.776\n",
      "Depth: 9 Accuracy: 0.768\n",
      "Depth: 10 Accuracy: 0.776\n",
      "Depth: 11 Accuracy: 0.773\n",
      "Depth: 12 Accuracy: 0.773\n",
      "Rata-rata Accuracy: 0.739\n"
     ]
    }
   ],
   "source": [
    "for depth in range(1,20):\n",
    "    clf_tree=DecisionTreeClassifier(criterion = 'entropy',max_depth=depth,random_state=40)\n",
    "    if clf_tree.fit(X_scaled,y).tree_.max_depth < depth:\n",
    "        break\n",
    "    score = np.mean(cross_val_score(clf_tree, X_scaled, y,  scoring='accuracy', cv=kf, n_jobs=1))\n",
    "    listakurasi.append(score);\n",
    "    print ('Depth: %i Accuracy: %.3f' % (depth,score))\n",
    "\n",
    "    \n",
    "rata2 = np.mean(listakurasi)\n",
    "print ('Rata-rata Accuracy: %.3f' % (rata2))"
   ]
  },
  {
   "cell_type": "code",
   "execution_count": 10,
   "metadata": {},
   "outputs": [
    {
     "name": "stdout",
     "output_type": "stream",
     "text": [
      "Accuracy Max depth: 0.773\n"
     ]
    }
   ],
   "source": [
    "clf_tree=DecisionTreeClassifier(criterion = 'entropy',random_state=40)\n",
    "clf=clf_tree.fit(X_scaled,y)\n",
    "scores = cross_val_score(clf, X_scaled, y, cv=kf)\n",
    "avg_score = np.mean(scores)\n",
    "print ('Accuracy Max depth: %.3f' %(avg_score))"
   ]
  },
  {
   "cell_type": "markdown",
   "metadata": {},
   "source": [
    "<hr>\n",
    "Visit : <a href=\"https://github.com/ronifernando/Decision-Tree-Python-using-Jupyter-Notebook\">https://github.com/ronifernando/Decision-Tree-Python-using-Jupyter-Notebook</a>\n"
   ]
  },
  {
   "cell_type": "code",
   "execution_count": null,
   "metadata": {},
   "outputs": [],
   "source": []
  }
 ],
 "metadata": {
  "kernelspec": {
   "display_name": "Python 3",
   "language": "python",
   "name": "python3"
  },
  "language_info": {
   "codemirror_mode": {
    "name": "ipython",
    "version": 3
   },
   "file_extension": ".py",
   "mimetype": "text/x-python",
   "name": "python",
   "nbconvert_exporter": "python",
   "pygments_lexer": "ipython3",
   "version": "3.6.4"
  }
 },
 "nbformat": 4,
 "nbformat_minor": 2
}
